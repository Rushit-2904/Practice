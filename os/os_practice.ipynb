{
 "cells": [
  {
   "cell_type": "code",
   "execution_count": null,
   "id": "76185012",
   "metadata": {},
   "outputs": [],
   "source": [
    "import os"
   ]
  },
  {
   "cell_type": "code",
   "execution_count": null,
   "id": "84ff9b8e",
   "metadata": {},
   "outputs": [],
   "source": [
    "os.getcwd()"
   ]
  },
  {
   "cell_type": "code",
   "execution_count": null,
   "id": "fcc94007",
   "metadata": {},
   "outputs": [],
   "source": [
    "print(os.listdir())"
   ]
  },
  {
   "cell_type": "code",
   "execution_count": null,
   "id": "68c1b199",
   "metadata": {},
   "outputs": [],
   "source": [
    "os.mkdir('Genuine_practice_2')"
   ]
  },
  {
   "cell_type": "code",
   "execution_count": null,
   "id": "a91e5ca7",
   "metadata": {},
   "outputs": [],
   "source": [
    "os.rmdir('Genuine_practice_2')"
   ]
  },
  {
   "cell_type": "code",
   "execution_count": null,
   "id": "85d51e3b",
   "metadata": {},
   "outputs": [],
   "source": [
    "os.getcwd()"
   ]
  },
  {
   "cell_type": "code",
   "execution_count": null,
   "id": "110f9366",
   "metadata": {},
   "outputs": [],
   "source": [
    "os.makedirs('Genuine_practice_2/aisehi.txt')"
   ]
  },
  {
   "cell_type": "code",
   "execution_count": null,
   "id": "73899237",
   "metadata": {},
   "outputs": [],
   "source": [
    "os.removedirs('Genuine_practice_2/aisehi.txt')"
   ]
  },
  {
   "cell_type": "code",
   "execution_count": null,
   "id": "b58b6f64",
   "metadata": {},
   "outputs": [],
   "source": [
    "print(os.listdir())"
   ]
  },
  {
   "cell_type": "code",
   "execution_count": null,
   "id": "d71ea814",
   "metadata": {},
   "outputs": [],
   "source": [
    "os.rename('dummy','Dummy')\n",
    "print(os.listdir())"
   ]
  },
  {
   "cell_type": "code",
   "execution_count": null,
   "id": "2e970c72",
   "metadata": {},
   "outputs": [],
   "source": [
    "os.rename('Dummy','dummy')\n",
    "print(os.listdir())"
   ]
  },
  {
   "cell_type": "code",
   "execution_count": null,
   "id": "226e0da7",
   "metadata": {},
   "outputs": [],
   "source": [
    "os.rename('dummy','Dummy')\n",
    "print(os.listdir())"
   ]
  },
  {
   "cell_type": "code",
   "execution_count": null,
   "id": "57eedbdb",
   "metadata": {},
   "outputs": [],
   "source": [
    "os.stat('dummy')\n",
    "# Check documentation for further understanding"
   ]
  },
  {
   "cell_type": "code",
   "execution_count": null,
   "id": "8f13b26b",
   "metadata": {},
   "outputs": [],
   "source": [
    "print(os.stat('dummy').st_size)\n",
    "# Size "
   ]
  },
  {
   "cell_type": "code",
   "execution_count": null,
   "id": "3a765c7e",
   "metadata": {},
   "outputs": [],
   "source": [
    "print(os.stat('DS_project').st_size)\n",
    "# Size "
   ]
  },
  {
   "cell_type": "code",
   "execution_count": null,
   "id": "a5a368ba",
   "metadata": {},
   "outputs": [],
   "source": [
    "print(os.stat('DS_project').st_mtime)\n",
    "# last time it was modified"
   ]
  },
  {
   "cell_type": "code",
   "execution_count": null,
   "id": "d63031db",
   "metadata": {},
   "outputs": [],
   "source": [
    "from datetime import datetime\n",
    "mod_time = os.stat('DS_project').st_mtime"
   ]
  },
  {
   "cell_type": "code",
   "execution_count": null,
   "id": "e16ad2e8",
   "metadata": {},
   "outputs": [],
   "source": [
    "print(datetime.fromtimestamp(mod_time))"
   ]
  },
  {
   "cell_type": "code",
   "execution_count": null,
   "id": "19a877ac",
   "metadata": {},
   "outputs": [],
   "source": [
    "os.getcwd()"
   ]
  },
  {
   "cell_type": "code",
   "execution_count": null,
   "id": "35e673a9",
   "metadata": {},
   "outputs": [],
   "source": [
    "# Entire directory tree on dekstop\n",
    "\n",
    "# return a tuple of three values "
   ]
  },
  {
   "cell_type": "code",
   "execution_count": null,
   "id": "769ca269",
   "metadata": {},
   "outputs": [],
   "source": [
    "for dir_path, dir_names, file_names in os.walk(os.getcwd()):\n",
    "    print(\"current_path :\",dir_path)\n",
    "    print(\"Directories :\",dir_names)\n",
    "    print(\"file_names :\",file_names)\n",
    "    print()"
   ]
  },
  {
   "cell_type": "code",
   "execution_count": null,
   "id": "3546c173",
   "metadata": {},
   "outputs": [],
   "source": [
    "new_file_path = os.path.join(os.getcwd(),\"dummy.txt\")"
   ]
  },
  {
   "cell_type": "code",
   "execution_count": null,
   "id": "cef5dd3e",
   "metadata": {},
   "outputs": [],
   "source": [
    "with open(new_file_path,'w') as f:\n",
    "    f.write(\"This is the new text from vs_code\")"
   ]
  },
  {
   "cell_type": "code",
   "execution_count": null,
   "id": "fa0fc419",
   "metadata": {},
   "outputs": [],
   "source": [
    "os.remove('dummy.txt')"
   ]
  },
  {
   "cell_type": "code",
   "execution_count": null,
   "id": "0b14bbac",
   "metadata": {},
   "outputs": [],
   "source": [
    "os.path.basename('temp/test.txt')"
   ]
  },
  {
   "cell_type": "code",
   "execution_count": null,
   "id": "d92f987d",
   "metadata": {},
   "outputs": [],
   "source": [
    "os.path.dirname('temp/test.txt')"
   ]
  },
  {
   "cell_type": "code",
   "execution_count": null,
   "id": "1378c370",
   "metadata": {},
   "outputs": [],
   "source": [
    "os.path.split('temp/test.txt')"
   ]
  },
  {
   "cell_type": "code",
   "execution_count": null,
   "id": "ff161ea0",
   "metadata": {},
   "outputs": [],
   "source": [
    "os.path.exists('temp/test.txt')"
   ]
  },
  {
   "cell_type": "code",
   "execution_count": null,
   "id": "ab441fd4",
   "metadata": {},
   "outputs": [],
   "source": [
    "os.path.exists(os.getcwd())"
   ]
  },
  {
   "cell_type": "code",
   "execution_count": null,
   "id": "3f168867",
   "metadata": {},
   "outputs": [],
   "source": [
    "os.path.isdir(os.getcwd())"
   ]
  },
  {
   "cell_type": "code",
   "execution_count": null,
   "id": "229b80a2",
   "metadata": {},
   "outputs": [],
   "source": [
    "os.path.splitext('temp/test.txt')"
   ]
  },
  {
   "cell_type": "code",
   "execution_count": null,
   "id": "3e5baf75",
   "metadata": {},
   "outputs": [],
   "source": [
    "print(dir(os.path))"
   ]
  },
  {
   "cell_type": "code",
   "execution_count": null,
   "id": "f069f42d",
   "metadata": {},
   "outputs": [],
   "source": []
  }
 ],
 "metadata": {
  "kernelspec": {
   "display_name": "base",
   "language": "python",
   "name": "python3"
  },
  "language_info": {
   "codemirror_mode": {
    "name": "ipython",
    "version": 3
   },
   "file_extension": ".py",
   "mimetype": "text/x-python",
   "name": "python",
   "nbconvert_exporter": "python",
   "pygments_lexer": "ipython3",
   "version": "3.12.7"
  }
 },
 "nbformat": 4,
 "nbformat_minor": 5
}
