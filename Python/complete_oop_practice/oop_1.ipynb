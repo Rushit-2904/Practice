{
 "cells": [
  {
   "cell_type": "markdown",
   "id": "4333c911",
   "metadata": {},
   "source": [
    "# Everyting in python is an object"
   ]
  },
  {
   "cell_type": "markdown",
   "id": "49ef901e",
   "metadata": {},
   "source": [
    "- OOP -> Object oriented programming\n",
    "### Why use OOP?\n",
    "- oop will help in \"improved code organization\",\"reusability\", \"maintainability\" and \"flexibility\""
   ]
  },
  {
   "cell_type": "markdown",
   "id": "87369b1c",
   "metadata": {},
   "source": [
    "### Principles in OOP\n",
    "- Class\n",
    "- Object\n",
    "- Abstraction\n",
    "- Inheritance\n",
    "- Encapsulation\n",
    "- Polymorphism"
   ]
  },
  {
   "cell_type": "markdown",
   "id": "fd8a4329",
   "metadata": {},
   "source": [
    "# Classes and Objects"
   ]
  },
  {
   "cell_type": "code",
   "execution_count": 3,
   "id": "696cf1e0",
   "metadata": {},
   "outputs": [
    {
     "name": "stdout",
     "output_type": "stream",
     "text": [
      "<class 'str'>\n"
     ]
    }
   ],
   "source": [
    "a = 'ramesh'\n",
    "print(type(a))"
   ]
  },
  {
   "cell_type": "code",
   "execution_count": 4,
   "id": "9874067a",
   "metadata": {},
   "outputs": [
    {
     "ename": "AttributeError",
     "evalue": "'str' object has no attribute 'append'",
     "output_type": "error",
     "traceback": [
      "\u001b[1;31m---------------------------------------------------------------------------\u001b[0m",
      "\u001b[1;31mAttributeError\u001b[0m                            Traceback (most recent call last)",
      "Cell \u001b[1;32mIn[4], line 1\u001b[0m\n\u001b[1;32m----> 1\u001b[0m \u001b[43ma\u001b[49m\u001b[38;5;241;43m.\u001b[39;49m\u001b[43mappend\u001b[49m(\u001b[38;5;124m'\u001b[39m\u001b[38;5;124mx\u001b[39m\u001b[38;5;124m'\u001b[39m)\n",
      "\u001b[1;31mAttributeError\u001b[0m: 'str' object has no attribute 'append'"
     ]
    }
   ],
   "source": [
    "a.append('x')"
   ]
  },
  {
   "cell_type": "markdown",
   "id": "ae4fca7c",
   "metadata": {},
   "source": [
    "- basically \"str\" is a \"Class\" and when we assign it to a variable it is known as \"Object\"\n",
    "- Object is an instance of class\n",
    "- Observe the message of \"AttributeError\""
   ]
  },
  {
   "cell_type": "markdown",
   "id": "240fbcf8",
   "metadata": {},
   "source": [
    "- Basically \"Class\" is a blueprint/template that defines attributes and behaviors, and when ever we create an \"Object\" of the class, the object brings the class blueprint to life, ready to use and interact with"
   ]
  },
  {
   "cell_type": "markdown",
   "id": "afb648ad",
   "metadata": {},
   "source": [
    "### Classs contains\n",
    "- Attributes, functions\n",
    "\n",
    "#### Attribute\n",
    "- data/property\n",
    "#### Function\n",
    "- some sort of function in class\n",
    "#### Syntax\n",
    "- object = class()"
   ]
  },
  {
   "cell_type": "markdown",
   "id": "2a40ffc4",
   "metadata": {},
   "source": [
    "- Always use Pascal case for writing class nama ex: CustomException"
   ]
  },
  {
   "cell_type": "code",
   "execution_count": null,
   "id": "186f41b7",
   "metadata": {},
   "outputs": [],
   "source": [
    "class Bank:                             # Class (User defined class)\n",
    "\n",
    "    def __init__(self):                 #__init__ --> Constructor (method inside the class)\n",
    "        self.account = 0          # why we use self? --> We will see that later \n",
    "        self.balance = 0 \n",
    "        self.pin = 0000\n",
    "        self.menu()                     # Because it executes when we create an object of this class\n",
    "\n",
    "    # we will make funcatanalities of our bank class\n",
    "\n",
    "    def menu(self):\n",
    "        user_input = input(''' \n",
    "            Choose one option\n",
    "              1. press 1 to create pin\n",
    "              2. press 2 to change pin\n",
    "              3. press 3 to check balance\n",
    "              4. press 4 to withhdraw\n",
    "              5. otherwise anything to \"exit\"\n",
    "        ''')\n",
    "        if user_input == \"1\":\n",
    "            self.create_pin()\n",
    "        elif user_input == \"2\":\n",
    "            self.change_pin()\n",
    "        elif user_input == \"3\":\n",
    "            self.check_balance()\n",
    "        elif user_input == \"4\":\n",
    "            self.withdraw()\n",
    "        else:\n",
    "            pass\n",
    "\n",
    "    def create_pin(self):\n",
    "        user_pin = input(\"enter your pin\")\n",
    "        self.pin = user_pin\n",
    "\n",
    "        user_balance = int(input('enter balance'))  # this doesn't make any sense but it's okay, infact nothing will make sense but it is fine\n",
    "        self.balance = user_balance\n",
    "        print(\"pin created successfully\")\n",
    "        self.menu()\n",
    "\n",
    "    def change_pin(self):\n",
    "        user_old_pin = input(\"enter your old pin\")\n",
    "        if user_old_pin == self.pin:\n",
    "            user_new_pin = input(\"enter new pin\")\n",
    "            self.pin = user_new_pin\n",
    "            print(\"Pin chnages successfully\")\n",
    "            self.menu()\n",
    "        else:\n",
    "            print(\"you entered the wrong pin\")\n",
    "            self.menu()\n",
    "    def check_balance(self):\n",
    "        user_pin = input(\"enter your pin\")\n",
    "        if user_pin == self.pin:\n",
    "            print(f\"your balance is {self.balance}\")\n",
    "            self.menu()\n",
    "        else:\n",
    "            print('wrong pin entered')\n",
    "            self.menu()\n",
    "    def withdraw(self):\n",
    "        user_pin = input(\"enter your pin\")\n",
    "        if user_pin == self.pin:\n",
    "            user_amount = int(input(\"enter amount to withdraw\"))\n",
    "            if user_amount < 0:\n",
    "                print(\"amount can't be negative\")\n",
    "                self.menu()\n",
    "            elif user_amount > self.balance:\n",
    "                print(\"You dont have that much money in your account\")\n",
    "                self.menu()\n",
    "            else:\n",
    "                self.balance = self.balance-user_amount\n",
    "                print(f\"withdrawa of {user_amount} is successfull, remaining balance is {self.balance}\")\n",
    "                self.menu()\n",
    "        else:\n",
    "            print(\"wrong pin\")\n",
    "            self.menu()"
   ]
  },
  {
   "cell_type": "markdown",
   "id": "8697f281",
   "metadata": {},
   "source": [
    "- \"Constructor\"(__ init __) is a special Method, this Method doesn't need to be called explicitely inorder to execute it, infact when we create the object of that class, the constructor executes automatically"
   ]
  },
  {
   "cell_type": "code",
   "execution_count": 16,
   "id": "d13218a4",
   "metadata": {},
   "outputs": [
    {
     "name": "stdout",
     "output_type": "stream",
     "text": [
      "<class '__main__.Bank'>\n"
     ]
    }
   ],
   "source": [
    "obj = Bank()                             # Object of \"Bank\" class\n",
    "print(type(obj))"
   ]
  },
  {
   "cell_type": "code",
   "execution_count": 2,
   "id": "38415822",
   "metadata": {},
   "outputs": [
    {
     "name": "stdout",
     "output_type": "stream",
     "text": [
      "pin created successfully\n"
     ]
    }
   ],
   "source": [
    "obj = Bank() # checking after creating \"create_pin\" function"
   ]
  },
  {
   "cell_type": "code",
   "execution_count": null,
   "id": "49c80e27",
   "metadata": {},
   "outputs": [
    {
     "name": "stdout",
     "output_type": "stream",
     "text": [
      "pin created successfully\n",
      "Pin chnages successfully\n"
     ]
    }
   ],
   "source": [
    "obj = Bank() # checking after creating \"change_pin\" function"
   ]
  },
  {
   "cell_type": "code",
   "execution_count": null,
   "id": "b072bd04",
   "metadata": {},
   "outputs": [
    {
     "name": "stdout",
     "output_type": "stream",
     "text": [
      "pin created successfully\n",
      "Pin chnages successfully\n",
      " your balance is 10000\n"
     ]
    }
   ],
   "source": [
    "obj = Bank() # checking after creating \"check_balance\" function"
   ]
  },
  {
   "cell_type": "code",
   "execution_count": 11,
   "id": "ed8976c4",
   "metadata": {},
   "outputs": [
    {
     "name": "stdout",
     "output_type": "stream",
     "text": [
      "pin created successfully\n",
      "Pin chnages successfully\n",
      " your balance is 10000\n",
      "withdrawa of 4000 is successfull, remaining balance is 6000\n"
     ]
    }
   ],
   "source": [
    "obj = Bank() # checking after creating \"withdraw\" function"
   ]
  },
  {
   "cell_type": "markdown",
   "id": "bbf37de6",
   "metadata": {},
   "source": [
    "#### Obviosuly the above class is not for any real life scenario, doesn't make any sense but it's just for practice"
   ]
  },
  {
   "cell_type": "markdown",
   "id": "20d6a910",
   "metadata": {},
   "source": [
    "#### --------------------------------------------------------------------"
   ]
  },
  {
   "cell_type": "markdown",
   "id": "3655a49a",
   "metadata": {},
   "source": [
    "### Methods vs Function\n",
    "\n",
    "#### Methods:\n",
    "- The functions inside a class is known as \"Method\"\n",
    "#### Funcition:\n",
    "- The function which is not inside the class and is independent is known  as function\n"
   ]
  },
  {
   "cell_type": "code",
   "execution_count": null,
   "id": "bc7c5809",
   "metadata": {},
   "outputs": [],
   "source": [
    "l = [\"a\",\"b\",\"c\"]\n",
    "len(l)            # (len) --> Funciton\n",
    "l.append(\"g\")     # (append) --> Method"
   ]
  },
  {
   "cell_type": "markdown",
   "id": "3f86e134",
   "metadata": {},
   "source": [
    "#### Golden rule of Object Oriented Programming\n",
    "- The *Data* and *Methods* inside any class can be accessed only by the *Object* of that *Class*, \n",
    "- Even the methods inside the class can not access other methods,in order to give the access of one method to other method \"Self\" is used"
   ]
  },
  {
   "cell_type": "code",
   "execution_count": 18,
   "id": "dfb96238",
   "metadata": {},
   "outputs": [],
   "source": [
    "class Temp:\n",
    "    def __init__(self):\n",
    "        print(id(self))"
   ]
  },
  {
   "cell_type": "code",
   "execution_count": 19,
   "id": "ecbecc54",
   "metadata": {},
   "outputs": [
    {
     "name": "stdout",
     "output_type": "stream",
     "text": [
      "1555240245184\n"
     ]
    }
   ],
   "source": [
    "object = Temp()"
   ]
  },
  {
   "cell_type": "code",
   "execution_count": 20,
   "id": "a37297ef",
   "metadata": {},
   "outputs": [
    {
     "name": "stdout",
     "output_type": "stream",
     "text": [
      "1555240245184\n"
     ]
    }
   ],
   "source": [
    "print(id(object))"
   ]
  },
  {
   "cell_type": "markdown",
   "id": "22902a77",
   "metadata": {},
   "source": [
    "- See how the id of \"self\" is equal to id of our \"object\""
   ]
  },
  {
   "cell_type": "markdown",
   "id": "54eef8b8",
   "metadata": {},
   "source": [
    "#### What is self?\n",
    "- In a nutshell \"self\" is  basically our current object, used for accessing all other methods in a class\n",
    "- We can also use anything instead of self. "
   ]
  },
  {
   "cell_type": "markdown",
   "id": "512905c7",
   "metadata": {},
   "source": [
    "### Magic Methods (Dunder method)\n",
    "- A special method with some supper power (__ name of method __) ex: __ init __"
   ]
  },
  {
   "cell_type": "markdown",
   "id": "066becd8",
   "metadata": {},
   "source": [
    "#### Why use constructor, what is its importance?\n",
    "- it is used to write configuration related code, ex: database connection, internet connection etc.."
   ]
  },
  {
   "cell_type": "code",
   "execution_count": 4,
   "id": "724ea04f",
   "metadata": {},
   "outputs": [],
   "source": [
    "class Fraction:\n",
    "\n",
    "    def __init__(self,num,den):\n",
    "        self.num = num\n",
    "        self.den = den\n",
    "\n",
    "    def __str__(self):                            # Magic method used for printing\n",
    "        return f\"{self.num}/{self.den}\"\n",
    "\n",
    "\n",
    "    def __add__(self,other):                      # New Magic method, used for addition\n",
    "        new_num = (self.num*other.den)+(self.den*other.num)                                  # numerator\n",
    "        new_den = self.den*other.den                                                         # Denominator\n",
    "        return f\"{new_num}/{new_den}\"\n",
    "\n",
    "\n",
    "\n"
   ]
  },
  {
   "cell_type": "code",
   "execution_count": 2,
   "id": "9deedc07",
   "metadata": {},
   "outputs": [],
   "source": [
    "obj = Fraction(3,4)"
   ]
  },
  {
   "cell_type": "code",
   "execution_count": 5,
   "id": "2d75e55a",
   "metadata": {},
   "outputs": [
    {
     "name": "stdout",
     "output_type": "stream",
     "text": [
      "3/4\n"
     ]
    }
   ],
   "source": [
    "print(obj)                                         # We are able to print because we used __str__ method in our class"
   ]
  },
  {
   "cell_type": "code",
   "execution_count": null,
   "id": "f68430d8",
   "metadata": {},
   "outputs": [
    {
     "name": "stdout",
     "output_type": "stream",
     "text": [
      "10/8\n"
     ]
    }
   ],
   "source": [
    "obj1 = Fraction(1,2)\n",
    "obj2 = Fraction(3,4)\n",
    "print(obj1 + obj2)                                # Obviously this will not return the simplest form, because we have not written that code but we can do that as well"
   ]
  },
  {
   "cell_type": "markdown",
   "id": "0b190140",
   "metadata": {},
   "source": [
    "- Same code we can write for Subtraction \"\t__ sub __ \", Multiplication \" __ mul__ \", Division \" __ truediv __ \", with this respective magic methods"
   ]
  }
 ],
 "metadata": {
  "kernelspec": {
   "display_name": "base",
   "language": "python",
   "name": "python3"
  },
  "language_info": {
   "codemirror_mode": {
    "name": "ipython",
    "version": 3
   },
   "file_extension": ".py",
   "mimetype": "text/x-python",
   "name": "python",
   "nbconvert_exporter": "python",
   "pygments_lexer": "ipython3",
   "version": "3.12.7"
  }
 },
 "nbformat": 4,
 "nbformat_minor": 5
}
