{
 "cells": [
  {
   "cell_type": "markdown",
   "id": "b1a50056",
   "metadata": {},
   "source": [
    "- Lets make a new data type of co-ordinate geomentry"
   ]
  },
  {
   "cell_type": "code",
   "execution_count": 26,
   "id": "32cc6033",
   "metadata": {},
   "outputs": [],
   "source": [
    "import numpy as np"
   ]
  },
  {
   "cell_type": "code",
   "execution_count": null,
   "id": "8046c6ae",
   "metadata": {},
   "outputs": [],
   "source": [
    "class Point:\n",
    "\n",
    "    def __init__(self,x,y):\n",
    "        self.x = x\n",
    "        self.y = y\n",
    "    \n",
    "    def __str__(self):\n",
    "        return f'({self.x},{self.y})'\n",
    "    \n",
    "    def euc_dist(self,other):\n",
    "        return np.sqrt((other.x - self.x)**2 + (other.y - self.y)**2)\n",
    "    \n",
    "    def origin_dist(self):\n",
    "        return self.euc_dist(Point(0,0)) # Creating a class's object inside same class"
   ]
  },
  {
   "cell_type": "code",
   "execution_count": 39,
   "id": "12c7c452",
   "metadata": {},
   "outputs": [
    {
     "name": "stdout",
     "output_type": "stream",
     "text": [
      "(1,1)\n"
     ]
    }
   ],
   "source": [
    "p1 = Point(1,1)\n",
    "print(p1)"
   ]
  },
  {
   "cell_type": "code",
   "execution_count": 40,
   "id": "7d543c49",
   "metadata": {},
   "outputs": [
    {
     "name": "stdout",
     "output_type": "stream",
     "text": [
      "(0,0)\n"
     ]
    }
   ],
   "source": [
    "p2 = Point(0,0)\n",
    "print(p2)"
   ]
  },
  {
   "cell_type": "code",
   "execution_count": 31,
   "id": "60050a6d",
   "metadata": {},
   "outputs": [
    {
     "data": {
      "text/plain": [
       "1.4142135623730951"
      ]
     },
     "execution_count": 31,
     "metadata": {},
     "output_type": "execute_result"
    }
   ],
   "source": [
    "p1.euc_dist(p2)"
   ]
  },
  {
   "cell_type": "code",
   "execution_count": 42,
   "id": "f6e28302",
   "metadata": {},
   "outputs": [
    {
     "data": {
      "text/plain": [
       "1.4142135623730951"
      ]
     },
     "execution_count": 42,
     "metadata": {},
     "output_type": "execute_result"
    }
   ],
   "source": [
    "p1.origin_dist()"
   ]
  },
  {
   "cell_type": "markdown",
   "id": "36d40868",
   "metadata": {},
   "source": [
    "- A line \n",
    "\n",
    "Ax + By + c = 0"
   ]
  },
  {
   "cell_type": "code",
   "execution_count": 103,
   "id": "a60e293b",
   "metadata": {},
   "outputs": [],
   "source": [
    "class Line:\n",
    "\n",
    "    def __init__(self,a,b,c):\n",
    "        self.a = a\n",
    "        self.b = b\n",
    "        self.c = c\n",
    "\n",
    "    def __str__(self):\n",
    "        if self.c>=0:\n",
    "            return f'{self.a}x+{self.b}y+{self.c}=0'\n",
    "        else:\n",
    "            return f'{self.a}x+{self.b}y{self.c}=0'\n",
    "    \n",
    "    def is_point_on_line(self,Point):\n",
    "        if self.a*Point.x + self.b*Point.y + self.c == 0:\n",
    "            return True\n",
    "        else:\n",
    "            return False\n",
    "        \n",
    "    def point_dist_line(self,Point):\n",
    "        return np.sqrt((abs(self.a*Point.x + self.b*Point.y + self.c))/(self.a**2 + self.b**2))"
   ]
  },
  {
   "cell_type": "code",
   "execution_count": 95,
   "id": "f28bc55b",
   "metadata": {},
   "outputs": [
    {
     "name": "stdout",
     "output_type": "stream",
     "text": [
      "2x+3y+4=0\n"
     ]
    }
   ],
   "source": [
    "l1 = Line(2,3,4)\n",
    "print(l1)"
   ]
  },
  {
   "cell_type": "code",
   "execution_count": 96,
   "id": "a734b4be",
   "metadata": {},
   "outputs": [
    {
     "name": "stdout",
     "output_type": "stream",
     "text": [
      "5x+6y+7=0\n"
     ]
    }
   ],
   "source": [
    "l2 = Line(5,6,7)\n",
    "print(l2)"
   ]
  },
  {
   "cell_type": "code",
   "execution_count": 97,
   "id": "8ecf23a2",
   "metadata": {},
   "outputs": [
    {
     "name": "stdout",
     "output_type": "stream",
     "text": [
      "1x+1y-2=0\n",
      "(1,1)\n"
     ]
    }
   ],
   "source": [
    "l3 = Line(1,1,-2)\n",
    "print(l3)\n",
    "\n",
    "p3 = Point(1,1)\n",
    "print(p3)"
   ]
  },
  {
   "cell_type": "code",
   "execution_count": 98,
   "id": "0d3e9fa1",
   "metadata": {},
   "outputs": [
    {
     "data": {
      "text/plain": [
       "True"
      ]
     },
     "execution_count": 98,
     "metadata": {},
     "output_type": "execute_result"
    }
   ],
   "source": [
    "l3.is_point_on_line(p3)"
   ]
  },
  {
   "cell_type": "code",
   "execution_count": 99,
   "id": "4641c69c",
   "metadata": {},
   "outputs": [
    {
     "data": {
      "text/plain": [
       "False"
      ]
     },
     "execution_count": 99,
     "metadata": {},
     "output_type": "execute_result"
    }
   ],
   "source": [
    "l2.is_point_on_line(p3)"
   ]
  },
  {
   "cell_type": "code",
   "execution_count": 107,
   "id": "aa47bf6b",
   "metadata": {},
   "outputs": [
    {
     "name": "stdout",
     "output_type": "stream",
     "text": [
      "(1,8)\n",
      "1x+5y-2=0\n"
     ]
    },
    {
     "data": {
      "text/plain": [
       "1.224744871391589"
      ]
     },
     "execution_count": 107,
     "metadata": {},
     "output_type": "execute_result"
    }
   ],
   "source": [
    "p4 = Point(1,8)\n",
    "l4 = Line(1,5,-2)\n",
    "print(p4)\n",
    "print(l4)\n",
    "\n",
    "l4.point_dist_line(p4)"
   ]
  },
  {
   "cell_type": "code",
   "execution_count": 109,
   "id": "f7f144b9",
   "metadata": {},
   "outputs": [
    {
     "name": "stdout",
     "output_type": "stream",
     "text": [
      "(1,1)\n",
      "1x+1y-2=0\n"
     ]
    },
    {
     "data": {
      "text/plain": [
       "0.0"
      ]
     },
     "execution_count": 109,
     "metadata": {},
     "output_type": "execute_result"
    }
   ],
   "source": [
    "p5 = Point(1,1)\n",
    "l5 = Line(1,1,-2)\n",
    "print(p5)\n",
    "print(l5)\n",
    "\n",
    "l5.point_dist_line(p5)"
   ]
  },
  {
   "cell_type": "markdown",
   "id": "e32544c7",
   "metadata": {},
   "source": [
    "- Attributes can be created from outside of the class"
   ]
  },
  {
   "cell_type": "code",
   "execution_count": 122,
   "id": "25fe2dff",
   "metadata": {},
   "outputs": [],
   "source": [
    "class Person:\n",
    "    \n",
    "    def __init__(self,name,country):\n",
    "        self.name = name\n",
    "        self.country = country\n",
    "\n",
    "    def greet(self):\n",
    "        print(f\"hello {self.name}, how was your journey from {self.country}\")"
   ]
  },
  {
   "cell_type": "code",
   "execution_count": 128,
   "id": "99c0d580",
   "metadata": {},
   "outputs": [
    {
     "name": "stdout",
     "output_type": "stream",
     "text": [
      "hello Ramesh, how was your journey from India\n"
     ]
    },
    {
     "data": {
      "text/plain": [
       "'India'"
      ]
     },
     "execution_count": 128,
     "metadata": {},
     "output_type": "execute_result"
    }
   ],
   "source": [
    "p = Person('Ramesh','India')\n",
    "p.greet()\n",
    "p.country"
   ]
  },
  {
   "cell_type": "code",
   "execution_count": 129,
   "id": "354383b7",
   "metadata": {},
   "outputs": [
    {
     "ename": "AttributeError",
     "evalue": "'Person' object has no attribute 'gender'",
     "output_type": "error",
     "traceback": [
      "\u001b[1;31m---------------------------------------------------------------------------\u001b[0m",
      "\u001b[1;31mAttributeError\u001b[0m                            Traceback (most recent call last)",
      "Cell \u001b[1;32mIn[129], line 1\u001b[0m\n\u001b[1;32m----> 1\u001b[0m \u001b[43mp\u001b[49m\u001b[38;5;241;43m.\u001b[39;49m\u001b[43mgender\u001b[49m\n",
      "\u001b[1;31mAttributeError\u001b[0m: 'Person' object has no attribute 'gender'"
     ]
    }
   ],
   "source": [
    "p.gender"
   ]
  },
  {
   "cell_type": "code",
   "execution_count": 130,
   "id": "cedaee0c",
   "metadata": {},
   "outputs": [],
   "source": [
    "p.gender = \"male\""
   ]
  },
  {
   "cell_type": "code",
   "execution_count": 131,
   "id": "0417c42a",
   "metadata": {},
   "outputs": [
    {
     "data": {
      "text/plain": [
       "'male'"
      ]
     },
     "execution_count": 131,
     "metadata": {},
     "output_type": "execute_result"
    }
   ],
   "source": [
    "p.gender"
   ]
  },
  {
   "cell_type": "markdown",
   "id": "344c95b9",
   "metadata": {},
   "source": [
    "- reference variable"
   ]
  },
  {
   "cell_type": "code",
   "execution_count": 132,
   "id": "211049f5",
   "metadata": {},
   "outputs": [],
   "source": [
    "class Person:\n",
    "    \n",
    "    def __init__(self,name,country):\n",
    "        self.name = name\n",
    "        self.country = country\n",
    "\n",
    "    def greet(self):\n",
    "        print(f\"hello {self.name}, how was your journey from {self.country}\")"
   ]
  },
  {
   "cell_type": "markdown",
   "id": "4b80190d",
   "metadata": {},
   "source": [
    "- Creating a object without a variable"
   ]
  },
  {
   "cell_type": "code",
   "execution_count": 134,
   "id": "9ac42a34",
   "metadata": {},
   "outputs": [
    {
     "data": {
      "text/plain": [
       "<__main__.Person at 0x1dd637b4ef0>"
      ]
     },
     "execution_count": 134,
     "metadata": {},
     "output_type": "execute_result"
    }
   ],
   "source": [
    "Person('rames','India')"
   ]
  },
  {
   "cell_type": "code",
   "execution_count": 136,
   "id": "5a06b4a1",
   "metadata": {},
   "outputs": [],
   "source": [
    "p = Person('ramesh','india')"
   ]
  },
  {
   "cell_type": "markdown",
   "id": "b680a33d",
   "metadata": {},
   "source": [
    "- basically we are making an object of our \"Person\" class which is stored somewhere, p refering to that address\n",
    "-  p is not the object, it contains th eaddress of that particular object that has been created\n",
    "- refernce varible stores the address of the object that is created"
   ]
  },
  {
   "attachments": {
    "image.png": {
     "image/png": "[encoded data removed]"
    }
   },
   "cell_type": "markdown",
   "id": "ce1bef10",
   "metadata": {},
   "source": [
    "![image.png](attachment:image.png)"
   ]
  },
  {
   "cell_type": "code",
   "execution_count": 139,
   "id": "8e208ea9",
   "metadata": {},
   "outputs": [
    {
     "name": "stdout",
     "output_type": "stream",
     "text": [
      "2050358254704\n",
      "2050358254704\n"
     ]
    }
   ],
   "source": [
    "# We can do this as well\n",
    "\n",
    "p = Person('ramesh', 'India')\n",
    "q = p\n",
    "\n",
    "\n",
    "print(id(p))\n",
    "print(id(q))\n",
    "\n",
    "# p and q are pointing at same address"
   ]
  },
  {
   "cell_type": "markdown",
   "id": "6aca49df",
   "metadata": {},
   "source": [
    "- We can make multilple reference variable for a single object"
   ]
  },
  {
   "cell_type": "code",
   "execution_count": 140,
   "id": "e53941ff",
   "metadata": {},
   "outputs": [
    {
     "name": "stdout",
     "output_type": "stream",
     "text": [
      "ramesh\n",
      "ramesh\n"
     ]
    }
   ],
   "source": [
    "print(p.name)\n",
    "print(q.name)"
   ]
  },
  {
   "cell_type": "code",
   "execution_count": 143,
   "id": "60eff9b7",
   "metadata": {},
   "outputs": [
    {
     "name": "stdout",
     "output_type": "stream",
     "text": [
      "suresh\n",
      "suresh\n"
     ]
    }
   ],
   "source": [
    "q.name = \"suresh\"\n",
    "print(q.name)\n",
    "print(p.name)"
   ]
  },
  {
   "cell_type": "markdown",
   "id": "2af678f9",
   "metadata": {},
   "source": [
    "- we can change it as well"
   ]
  },
  {
   "cell_type": "markdown",
   "id": "7e913e77",
   "metadata": {},
   "source": [
    "#### Basically\n",
    "- Reference variables hold the objects\n",
    "- We can create objects without reference variable as well\n",
    "- An object can have multiple reference variables\n",
    "- Assigning a new reference variable to an existing object does not create a new object"
   ]
  },
  {
   "cell_type": "markdown",
   "id": "11df2994",
   "metadata": {},
   "source": [
    "### Pass by reference"
   ]
  },
  {
   "cell_type": "code",
   "execution_count": 169,
   "id": "74252fad",
   "metadata": {},
   "outputs": [],
   "source": [
    "class Person:\n",
    "\n",
    "    def __init__(self,name,gender):   # Method inside the class\n",
    "        self.name = name\n",
    "        self.gender = gender\n",
    "\n",
    "# Outside funcitons\n",
    "\n",
    "def greet(Person):\n",
    "    print(f'I am {Person.name} and my gender is {Person.gender}')"
   ]
  },
  {
   "cell_type": "code",
   "execution_count": 170,
   "id": "61934519",
   "metadata": {},
   "outputs": [
    {
     "name": "stdout",
     "output_type": "stream",
     "text": [
      "I am ramesh and my gender is male\n"
     ]
    }
   ],
   "source": [
    "p = Person('ramesh', 'male')   # Object of \"Person\" class\n",
    "greet(p)                    # using function with \"object\" as input\n"
   ]
  },
  {
   "cell_type": "markdown",
   "id": "84158739",
   "metadata": {},
   "source": [
    "- reverse is also possible"
   ]
  },
  {
   "cell_type": "code",
   "execution_count": 186,
   "id": "9a4083aa",
   "metadata": {},
   "outputs": [],
   "source": [
    "class Person:\n",
    "\n",
    "    def __init__(self,name,gender):   # Method inside the class\n",
    "        self.name = name\n",
    "        self.gender = gender\n",
    "\n",
    "# Outside funcitons\n",
    "\n",
    "def greet(person):\n",
    "    print(f'I am {person.name} and my gender is {person.gender}')\n",
    "    p1 = Person('tina','female')\n",
    "    return p1\n"
   ]
  },
  {
   "cell_type": "code",
   "execution_count": null,
   "id": "cb037c8c",
   "metadata": {},
   "outputs": [
    {
     "name": "stdout",
     "output_type": "stream",
     "text": [
      "I am ramesh and my gender is male\n",
      "tina\n",
      "female\n"
     ]
    }
   ],
   "source": [
    "p = Person('ramesh','male')\n",
    "a = greet(p)                            \n",
    "print(a.name)                           #  A function returning object\n",
    "print(a.gender)\n"
   ]
  },
  {
   "cell_type": "code",
   "execution_count": 193,
   "id": "dd9ba344",
   "metadata": {},
   "outputs": [
    {
     "name": "stdout",
     "output_type": "stream",
     "text": [
      "2050357910928\n",
      "2050357910928\n",
      "I am ramesh and my gender is male\n"
     ]
    }
   ],
   "source": [
    "class Person:\n",
    "\n",
    "    def __init__(self,name,gender):   # Method inside the class\n",
    "        self.name = name\n",
    "        self.gender = gender\n",
    "\n",
    "# Outside funcitons\n",
    "\n",
    "def greet(person):\n",
    "    print(id(person))\n",
    "    print(f'I am {person.name} and my gender is {person.gender}')\n",
    "    p1 = Person('tina','female')\n",
    "    return p1\n",
    "\n",
    "p = Person('ramesh','male')\n",
    "print(id(p))\n",
    "a = greet(p)"
   ]
  },
  {
   "cell_type": "markdown",
   "id": "8d5069b9",
   "metadata": {},
   "source": [
    "- basically we are passing the address, hence the name \"pass by refernce\""
   ]
  },
  {
   "cell_type": "markdown",
   "id": "5106fc80",
   "metadata": {},
   "source": [
    "### Mutability"
   ]
  },
  {
   "cell_type": "code",
   "execution_count": null,
   "id": "3e14a06a",
   "metadata": {},
   "outputs": [
    {
     "name": "stdout",
     "output_type": "stream",
     "text": [
      "2050371925728\n",
      "2050371925728\n"
     ]
    }
   ],
   "source": [
    "class Person:\n",
    "\n",
    "    def __init__(self,name,gender):\n",
    "        self.name = name\n",
    "        self.gender = gender\n",
    "# Made the class\n",
    "\n",
    "def change_name(person):\n",
    "    person.name = 'ramesh'\n",
    "    return person\n",
    "\n",
    "# made a function which takes in class, performs some changes in it and returns the class with changes\n",
    "\n",
    "p  = Person('suresh','male') # we made a class\n",
    "print(id(p))                 # Id of our object\n",
    "p1 = change_name(p)          # We called the function, which performs changes and returns class\n",
    "print(id(p1))                # Id of the class returned from function"
   ]
  },
  {
   "cell_type": "markdown",
   "id": "f0d2d4e3",
   "metadata": {},
   "source": [
    "- Basically if you see above, the Id has not changed, which proves the mutability of our objects of user defined class"
   ]
  },
  {
   "cell_type": "markdown",
   "id": "dcb08339",
   "metadata": {},
   "source": [
    "### Encapsulation\n",
    "- Encapsulation is the concept of hiding internal details of an object and restricting direct access to some of its components.\n",
    "It allows control over how the data is accessed or modified."
   ]
  },
  {
   "cell_type": "code",
   "execution_count": 195,
   "id": "7e5cd6e8",
   "metadata": {},
   "outputs": [],
   "source": [
    "class Something:\n",
    "\n",
    "    def __init__(self, name, gender):\n",
    "        self.name  = name                       # instance variable\n",
    "        self.gender = gender                    # instance variable "
   ]
  },
  {
   "cell_type": "code",
   "execution_count": 196,
   "id": "b049f96e",
   "metadata": {},
   "outputs": [
    {
     "name": "stdout",
     "output_type": "stream",
     "text": [
      "ramesh\n",
      "tina\n"
     ]
    }
   ],
   "source": [
    "p1 = Something('ramesh','male')\n",
    "p2 = Something('tina','female')\n",
    "print(p1.name)\n",
    "print(p2.name)"
   ]
  },
  {
   "attachments": {
    "image.png": {
     "image/png": "[encoded data removed]"
    }
   },
   "cell_type": "markdown",
   "id": "b76b54a4",
   "metadata": {},
   "source": [
    "![image.png](attachment:image.png)"
   ]
  },
  {
   "cell_type": "markdown",
   "id": "5226c013",
   "metadata": {},
   "source": [
    "- Instance variable are variables that has different values for different objects"
   ]
  },
  {
   "cell_type": "code",
   "execution_count": 241,
   "id": "8b1de1b2",
   "metadata": {},
   "outputs": [],
   "source": [
    "class NewClass:\n",
    "\n",
    "    def __init__(self,name,age,sex):\n",
    "        self.name = name\n",
    "        self.age = age\n",
    "        self.sex = sex\n",
    "\n",
    "    def greet(self):\n",
    "        print(f'hi this is {self.name}')"
   ]
  },
  {
   "cell_type": "code",
   "execution_count": 242,
   "id": "b6d634c6",
   "metadata": {},
   "outputs": [
    {
     "name": "stdout",
     "output_type": "stream",
     "text": [
      "hi this is ramesh\n",
      "hi this is suresh\n"
     ]
    }
   ],
   "source": [
    "p = NewClass('ramesh',24,'male')\n",
    "p.greet()\n",
    "p.name = 'suresh'\n",
    "p.greet()"
   ]
  },
  {
   "cell_type": "markdown",
   "id": "2565b6fb",
   "metadata": {},
   "source": [
    "- We saw earlier we can change the values easily\n",
    "- What if we don't want to change the value of it?\n",
    "- we can use \"Private Attributes\", we will change all our attributes into \"Private Attributes\""
   ]
  },
  {
   "cell_type": "code",
   "execution_count": 256,
   "id": "fe33de5e",
   "metadata": {},
   "outputs": [],
   "source": [
    "class NewPrivateClass:\n",
    "\n",
    "    def __init__(self,name,age,sex):\n",
    "        self.__name = name\n",
    "        self.__age = age\n",
    "        self.sex = sex\n",
    "\n",
    "    def greet(self):\n",
    "        print(f'hi this is {self.__name}')"
   ]
  },
  {
   "cell_type": "markdown",
   "id": "5c00f6ed",
   "metadata": {},
   "source": [
    "- Now we can not access that \"Private attributes\""
   ]
  },
  {
   "cell_type": "code",
   "execution_count": 259,
   "id": "ed1a1497",
   "metadata": {},
   "outputs": [
    {
     "name": "stdout",
     "output_type": "stream",
     "text": [
      "hi this is ramesh\n",
      "hi this is ramesh\n"
     ]
    }
   ],
   "source": [
    "p = NewPrivateClass('ramesh',24,'male')\n",
    "p.greet()\n",
    "p.name = 'suresh'      # This operation will not be performed\n",
    "p.greet()"
   ]
  },
  {
   "cell_type": "code",
   "execution_count": 245,
   "id": "abfb09ef",
   "metadata": {},
   "outputs": [
    {
     "name": "stdout",
     "output_type": "stream",
     "text": [
      "male\n",
      "other\n"
     ]
    }
   ],
   "source": [
    "p = NewPrivateClass('ramesh',24,'male')\n",
    "print(p.sex)\n",
    "p.sex = 'other'\n",
    "print(p.sex)\n",
    "\n",
    "# Because \"sex\" is still accessible, we haven't used __ in our class, if we want we can make it"
   ]
  },
  {
   "cell_type": "code",
   "execution_count": 246,
   "id": "e1a4ec24",
   "metadata": {},
   "outputs": [],
   "source": [
    "class NewPrivateClass:\n",
    "\n",
    "    def __init__(self,name,age,sex):\n",
    "        self.__name = name\n",
    "        self.__age = age\n",
    "        self.sex = sex\n",
    "\n",
    "    def greet(self):\n",
    "        print(f'hi this is {self.__name}')"
   ]
  },
  {
   "cell_type": "markdown",
   "id": "ddb950fe",
   "metadata": {},
   "source": [
    "- What if we write something like this"
   ]
  },
  {
   "cell_type": "code",
   "execution_count": null,
   "id": "876cade4",
   "metadata": {},
   "outputs": [
    {
     "name": "stdout",
     "output_type": "stream",
     "text": [
      "hi this is ramesh\n",
      "suresh\n",
      "hi this is ramesh\n",
      "2050368426352\n",
      "2050368107552\n",
      "hi this is suresh\n"
     ]
    }
   ],
   "source": [
    "p = NewPrivateClass('ramesh',24,'male')\n",
    "p.greet()\n",
    "p.__name = 'suresh'\n",
    "print(p.__name)\n",
    "p.greet()\n",
    "\n",
    "print(id(p.__name))\n",
    "print(id(p._NewPrivateClass__name))           # internally saved as _ClassName__attribute\n",
    "p._NewPrivateClass__name = 'suresh'\n",
    "p.greet()"
   ]
  },
  {
   "cell_type": "markdown",
   "id": "cc1da3b7",
   "metadata": {},
   "source": [
    "- What happend here?\n",
    "- when we use \"__\" for making our attributes private, internally it is stored as \"_NewPrivateClass__name\", but we have changed the p.__name, what does this mean?\n",
    "- we know that we can make create new attributes for our class using object, that means a new attribute \"__name\" is made which is not in our class and our class's name is still intact\n",
    "\n",
    "- We can make our methods also private\n",
    "\n",
    "- we can see that even id's are changed\n",
    "\n",
    "- but again this can be changed using _ClassName__attribute, we can see above\n",
    "\n",
    "#### *Conclusion* : In python nothing is truely private"
   ]
  },
  {
   "cell_type": "code",
   "execution_count": 267,
   "id": "5a839269",
   "metadata": {},
   "outputs": [],
   "source": [
    "class Dont:\n",
    "    \n",
    "    def __init__(self,name,sex,age):\n",
    "        self.__name  = name\n",
    "        self.__age = age\n",
    "        self.__sex= sex\n",
    "\n",
    "    def __greet(self):\n",
    "        print(f'Hi my name is {self.__name}, I am {self.__age} years old and I am a {self.__sex}')"
   ]
  },
  {
   "cell_type": "code",
   "execution_count": 268,
   "id": "171d7ed8",
   "metadata": {},
   "outputs": [
    {
     "name": "stdout",
     "output_type": "stream",
     "text": [
      "['_Dont__age', '_Dont__greet', '_Dont__name', '_Dont__sex', '__class__', '__delattr__', '__dict__', '__dir__', '__doc__', '__eq__', '__format__', '__ge__', '__getattribute__', '__getstate__', '__gt__', '__hash__', '__init__', '__init_subclass__', '__le__', '__lt__', '__module__', '__ne__', '__new__', '__reduce__', '__reduce_ex__', '__repr__', '__setattr__', '__sizeof__', '__str__', '__subclasshook__', '__weakref__']\n"
     ]
    }
   ],
   "source": [
    "d = Dont('Paresh',25,'Male')\n",
    "print(dir(d))"
   ]
  },
  {
   "cell_type": "markdown",
   "id": "19d1ed01",
   "metadata": {},
   "source": [
    "- See the attributes are stored in this way\n",
    "- you won't see __name, __age, __sex or __greet, because our attributes are now private"
   ]
  },
  {
   "cell_type": "code",
   "execution_count": 277,
   "id": "f0304143",
   "metadata": {},
   "outputs": [],
   "source": [
    "class Dont:\n",
    "    \n",
    "    def __init__(self,name,age,sex):\n",
    "        self.__name  = name\n",
    "        self.__age = age\n",
    "        self.__sex= sex\n",
    "\n",
    "    def greet(self):\n",
    "        print(f'Hi my name is {self.__name}, I am {self.__age} years old and I am a {self.__sex}')\n",
    "\n",
    "    def get_name(self):\n",
    "        print(self.__name)\n",
    "    \n",
    "    def set_name(self,new_name):\n",
    "        self.__name = new_name "
   ]
  },
  {
   "cell_type": "code",
   "execution_count": 282,
   "id": "77687029",
   "metadata": {},
   "outputs": [
    {
     "name": "stdout",
     "output_type": "stream",
     "text": [
      "Hi my name is Paresh, I am 25 years old and I am a Male\n",
      "Paresh\n",
      "-----------------\n",
      "'Dont' object has no attribute '__name'\n",
      "-----------------\n",
      "Rakesh\n",
      "Hi my name is Rakesh, I am 25 years old and I am a Male\n"
     ]
    }
   ],
   "source": [
    "d = Dont('Paresh',25,'Male')\n",
    "d.greet()\n",
    "d.get_name()\n",
    "print('-----------------')\n",
    "try:\n",
    "    print(d.__name)            # This will throw an error\n",
    "except Exception as e:\n",
    "    print(e)\n",
    "print('-----------------')\n",
    "\n",
    "d.set_name('Rakesh')       # We can make this function such that \n",
    "d.get_name()\n",
    "d.greet()"
   ]
  },
  {
   "cell_type": "markdown",
   "id": "83f43686",
   "metadata": {},
   "source": [
    "- Basically we can change and see the attribute by using \"getter and setter\" function, so we can write logic accordingly"
   ]
  },
  {
   "cell_type": "markdown",
   "id": "27dae91b",
   "metadata": {},
   "source": [
    "### Collection of objects"
   ]
  },
  {
   "cell_type": "code",
   "execution_count": 284,
   "id": "51a3e893",
   "metadata": {},
   "outputs": [],
   "source": [
    "class Dont:\n",
    "    \n",
    "    def __init__(self,name,age,sex):\n",
    "        self.name  = name\n",
    "        self.age = age\n",
    "        self.sex= sex\n",
    "\n",
    "    def greet(self):\n",
    "        print(f'Hi my name is {self.name}, I am {self.age} years old and I am a {self.sex}')\n",
    "    "
   ]
  },
  {
   "cell_type": "code",
   "execution_count": 285,
   "id": "9b440649",
   "metadata": {},
   "outputs": [
    {
     "name": "stdout",
     "output_type": "stream",
     "text": [
      "[<__main__.Dont object at 0x000001DD63A8FC20>, <__main__.Dont object at 0x000001DD63A8C230>, <__main__.Dont object at 0x000001DD63A8F0B0>]\n"
     ]
    }
   ],
   "source": [
    "d1 = Dont('ramesh',25,'male')\n",
    "d2 = Dont('suresh',24,'male')\n",
    "d3 = Dont('rakesh',23,'male')\n",
    "\n",
    "l = [d1,d2,d3]\n",
    "print(l)"
   ]
  },
  {
   "cell_type": "markdown",
   "id": "f3963ae4",
   "metadata": {},
   "source": [
    "- Because we din't have \"__ str __\" in our class we got our objet's address"
   ]
  },
  {
   "cell_type": "code",
   "execution_count": 286,
   "id": "133da751",
   "metadata": {},
   "outputs": [
    {
     "name": "stdout",
     "output_type": "stream",
     "text": [
      "ramesh 25 male\n",
      "suresh 24 male\n",
      "rakesh 23 male\n"
     ]
    }
   ],
   "source": [
    "for i in l:\n",
    "    print(i.name,i.age,i.sex)"
   ]
  },
  {
   "cell_type": "markdown",
   "id": "80da8b70",
   "metadata": {},
   "source": [
    "### Static variables"
   ]
  },
  {
   "cell_type": "markdown",
   "id": "0eafc1a4",
   "metadata": {},
   "source": [
    "- Basically the variable which is same for all objects is same is known as \"Static variable\""
   ]
  },
  {
   "cell_type": "code",
   "execution_count": 321,
   "id": "eadabc9b",
   "metadata": {},
   "outputs": [],
   "source": [
    "class Fan:\n",
    "\n",
    "    counter = 1\n",
    "\n",
    "    def __init__(self,name,age):\n",
    "        self.name = name\n",
    "        self.age = age\n",
    "        self.cid = Fan.counter \n",
    "        Fan.counter = Fan.counter + 1"
   ]
  },
  {
   "cell_type": "code",
   "execution_count": 322,
   "id": "b769f325",
   "metadata": {},
   "outputs": [],
   "source": [
    "c1 = Fan('ramesh',23)\n",
    "c2 = Fan('suresh',24)\n",
    "c3 = Fan('rakesh',25)"
   ]
  },
  {
   "cell_type": "code",
   "execution_count": 323,
   "id": "9dc1dc80",
   "metadata": {},
   "outputs": [
    {
     "name": "stdout",
     "output_type": "stream",
     "text": [
      "1\n",
      "2\n",
      "3\n"
     ]
    }
   ],
   "source": [
    "print(c1.cid)\n",
    "print(c2.cid)\n",
    "print(c3.cid)"
   ]
  },
  {
   "cell_type": "markdown",
   "id": "6e949cff",
   "metadata": {},
   "source": [
    "- Basically when ever a new object is created for our class, it will get a unique cid, a static variable which class has\n",
    "- Also if you see \"counter\" has class name in starting and other attibutes have \"self\"  in starting\n",
    "\n",
    "#### In a nutshell \n",
    "- ClassName.variable --> Static variable     ( Outside and above all methods )\n",
    "- slef.variable      --> Instance variable   ( inside constructor )\n"
   ]
  },
  {
   "cell_type": "markdown",
   "id": "cf27beac",
   "metadata": {},
   "source": [
    "- But we have a problem"
   ]
  },
  {
   "cell_type": "code",
   "execution_count": 324,
   "id": "5c02a222",
   "metadata": {},
   "outputs": [],
   "source": [
    "class Fan:\n",
    "\n",
    "    counter = 1\n",
    "\n",
    "    def __init__(self,name,age):\n",
    "        self.name = name\n",
    "        self.age = age\n",
    "        self.cid = Fan.counter \n",
    "        Fan.counter = Fan.counter + 1"
   ]
  },
  {
   "cell_type": "code",
   "execution_count": 325,
   "id": "eb708564",
   "metadata": {},
   "outputs": [],
   "source": [
    "Fan.counter = 'something'"
   ]
  },
  {
   "cell_type": "markdown",
   "id": "80fd3c0c",
   "metadata": {},
   "source": [
    "- Now when we create an object of our class, it will throw an error"
   ]
  },
  {
   "cell_type": "code",
   "execution_count": 326,
   "id": "0bb4ad0a",
   "metadata": {},
   "outputs": [
    {
     "ename": "TypeError",
     "evalue": "can only concatenate str (not \"int\") to str",
     "output_type": "error",
     "traceback": [
      "\u001b[1;31m---------------------------------------------------------------------------\u001b[0m",
      "\u001b[1;31mTypeError\u001b[0m                                 Traceback (most recent call last)",
      "Cell \u001b[1;32mIn[326], line 1\u001b[0m\n\u001b[1;32m----> 1\u001b[0m c1 \u001b[38;5;241m=\u001b[39m \u001b[43mFan\u001b[49m\u001b[43m(\u001b[49m\u001b[38;5;124;43m'\u001b[39;49m\u001b[38;5;124;43mramesh\u001b[39;49m\u001b[38;5;124;43m'\u001b[39;49m\u001b[43m,\u001b[49m\u001b[38;5;241;43m24\u001b[39;49m\u001b[43m)\u001b[49m\n",
      "Cell \u001b[1;32mIn[324], line 9\u001b[0m, in \u001b[0;36mFan.__init__\u001b[1;34m(self, name, age)\u001b[0m\n\u001b[0;32m      7\u001b[0m \u001b[38;5;28mself\u001b[39m\u001b[38;5;241m.\u001b[39mage \u001b[38;5;241m=\u001b[39m age\n\u001b[0;32m      8\u001b[0m \u001b[38;5;28mself\u001b[39m\u001b[38;5;241m.\u001b[39mcid \u001b[38;5;241m=\u001b[39m Fan\u001b[38;5;241m.\u001b[39mcounter \n\u001b[1;32m----> 9\u001b[0m Fan\u001b[38;5;241m.\u001b[39mcounter \u001b[38;5;241m=\u001b[39m \u001b[43mFan\u001b[49m\u001b[38;5;241;43m.\u001b[39;49m\u001b[43mcounter\u001b[49m\u001b[43m \u001b[49m\u001b[38;5;241;43m+\u001b[39;49m\u001b[43m \u001b[49m\u001b[38;5;241;43m1\u001b[39;49m\n",
      "\u001b[1;31mTypeError\u001b[0m: can only concatenate str (not \"int\") to str"
     ]
    }
   ],
   "source": [
    "c1 = Fan('ramesh',24)"
   ]
  },
  {
   "cell_type": "markdown",
   "id": "2ba8ab2c",
   "metadata": {},
   "source": [
    "- what can be done, so no one access it?\n",
    "- make it Private"
   ]
  },
  {
   "cell_type": "code",
   "execution_count": 336,
   "id": "1c88d104",
   "metadata": {},
   "outputs": [],
   "source": [
    "class Fan:\n",
    "\n",
    "    __counter = 1\n",
    "\n",
    "    def __init__(self,name,age):\n",
    "        self.name = name\n",
    "        self.age = age\n",
    "        self.cid = Fan.__counter \n",
    "        Fan.__counter = Fan.__counter + 1"
   ]
  },
  {
   "cell_type": "code",
   "execution_count": 332,
   "id": "6479f973",
   "metadata": {},
   "outputs": [],
   "source": [
    "Fan_counter = 1        # Will run but will not affect our class"
   ]
  },
  {
   "cell_type": "code",
   "execution_count": 337,
   "id": "b6c14d69",
   "metadata": {},
   "outputs": [
    {
     "name": "stdout",
     "output_type": "stream",
     "text": [
      "1\n",
      "2\n",
      "3\n"
     ]
    }
   ],
   "source": [
    "c1 = Fan('ramesh',23)\n",
    "c2 = Fan('suresh',24)\n",
    "c3 = Fan('rakesh',25)\n",
    "\n",
    "print(c1.cid)\n",
    "print(c2.cid)\n",
    "print(c3.cid)"
   ]
  },
  {
   "cell_type": "markdown",
   "id": "863516e8",
   "metadata": {},
   "source": [
    "- what if we still want to change?\n",
    "- use getter and setter method"
   ]
  },
  {
   "cell_type": "code",
   "execution_count": 339,
   "id": "4a3d5428",
   "metadata": {},
   "outputs": [],
   "source": [
    "class Fan:\n",
    "\n",
    "    __counter = 1\n",
    "\n",
    "    def __init__(self,name,age):\n",
    "        self.name = name\n",
    "        self.age = age\n",
    "        self.cid = Fan.__counter \n",
    "        Fan.__counter = Fan.__counter + 1\n",
    "    \n",
    "    # utility functions\n",
    "    @staticmethod\n",
    "    def get_counter():                         # No need of self, no need to create a object for accessing this function, this are know as utility functions\n",
    "        return Fan.__counter\n",
    "    "
   ]
  },
  {
   "cell_type": "code",
   "execution_count": 343,
   "id": "f7966ea4",
   "metadata": {},
   "outputs": [
    {
     "data": {
      "text/plain": [
       "1"
      ]
     },
     "execution_count": 343,
     "metadata": {},
     "output_type": "execute_result"
    }
   ],
   "source": [
    "Fan.get_counter()           # we get the counter value without creating the object of \"Fan\" class"
   ]
  }
 ],
 "metadata": {
  "language_info": {
   "name": "python"
  }
 },
 "nbformat": 4,
 "nbformat_minor": 5
}
