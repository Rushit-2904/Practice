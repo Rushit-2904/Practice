{
 "cells": [
  {
   "cell_type": "code",
   "execution_count": 1,
   "id": "6e06180a",
   "metadata": {},
   "outputs": [],
   "source": [
    "import logging\n",
    "logging.basicConfig(\n",
    "    level=logging.INFO,\n",
    "    filename='example.log',\n",
    "    format='%(name)s : %(asctime)s : %(levelname)s : %(message)s'\n",
    "    )"
   ]
  },
  {
   "cell_type": "code",
   "execution_count": 2,
   "id": "a2b97d3a",
   "metadata": {},
   "outputs": [],
   "source": [
    "logger = logging.getLogger('Rushit')\n",
    "\n",
    "logger.info(\"The info messge\")\n",
    "logger.warning(\"The warning messge\")\n",
    "logger.error(\"The error messge\")\n",
    "logger.critical(\"The critical messge\")"
   ]
  },
  {
   "cell_type": "code",
   "execution_count": 3,
   "id": "3a109fde",
   "metadata": {},
   "outputs": [],
   "source": [
    "logger_2 = logging.getLogger('func1')\n",
    "\n",
    "def func1(x,y):\n",
    "    try:\n",
    "        return x/y\n",
    "    except Exception as e:\n",
    "        logger_2.error(f\"The error occured while prforming {x}/{y} is {e}\")"
   ]
  },
  {
   "cell_type": "code",
   "execution_count": 4,
   "id": "265503f5",
   "metadata": {},
   "outputs": [],
   "source": [
    "func1(3,0)"
   ]
  },
  {
   "cell_type": "code",
   "execution_count": 11,
   "id": "bed2cd7d",
   "metadata": {},
   "outputs": [],
   "source": [
    "logger_3 = logging.getLogger('func2')\n",
    "\n",
    "def func2(x):\n",
    "    try:\n",
    "        return x+2\n",
    "    except Exception as e:\n",
    "        logger_3.error(e)"
   ]
  },
  {
   "cell_type": "code",
   "execution_count": 12,
   "id": "8b264a8b",
   "metadata": {},
   "outputs": [],
   "source": [
    "func2('t')"
   ]
  },
  {
   "cell_type": "code",
   "execution_count": 13,
   "id": "9a891c67",
   "metadata": {},
   "outputs": [],
   "source": [
    "import os"
   ]
  },
  {
   "cell_type": "code",
   "execution_count": 16,
   "id": "50791831",
   "metadata": {},
   "outputs": [],
   "source": [
    "os.makedirs('supper',exist_ok=True)"
   ]
  }
 ],
 "metadata": {
  "kernelspec": {
   "display_name": "base",
   "language": "python",
   "name": "python3"
  },
  "language_info": {
   "codemirror_mode": {
    "name": "ipython",
    "version": 3
   },
   "file_extension": ".py",
   "mimetype": "text/x-python",
   "name": "python",
   "nbconvert_exporter": "python",
   "pygments_lexer": "ipython3",
   "version": "3.12.7"
  }
 },
 "nbformat": 4,
 "nbformat_minor": 5
}
