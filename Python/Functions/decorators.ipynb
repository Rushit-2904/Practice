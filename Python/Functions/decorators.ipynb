{
 "cells": [
  {
   "cell_type": "markdown",
   "id": "a4f448e7",
   "metadata": {},
   "source": [
    "#### Namespaces\n",
    "\n",
    "- It is nothing but a dictionary, which contains identifers(keys) and thier Objects(values)\n",
    "a = 3, b = 4 -----------> {a:3,b:4}\n",
    "\n",
    "#### Four types\n",
    "- Builtin\n",
    "- Global\n",
    "- Encoding\n",
    "- Local\n",
    "\n",
    "- -------------------------\n",
    "\n",
    "- If you observe clearly, there are two Namespace and scope in the image below.\n",
    "- first scope is of global frame where namespace can be visualized as      {add: function, a : 3, b : 4}\n",
    "- second scope is of function where namespace can be visualized as {x : 3, y : 4}\n",
    "- None of the scopes can access other's namespace"
   ]
  },
  {
   "attachments": {
    "image-2.png": {
     "image/png": "[encoded data removed]"
    }
   },
   "cell_type": "markdown",
   "id": "45f9e073",
   "metadata": {},
   "source": [
    "![image-2.png](attachment:image-2.png)"
   ]
  },
  {
   "cell_type": "markdown",
   "id": "926de62c",
   "metadata": {},
   "source": [
    "- LEGB rule\n",
    "- local --> Encoding --> Global --> Builtin -->"
   ]
  },
  {
   "cell_type": "code",
   "execution_count": 2,
   "id": "b878c139",
   "metadata": {},
   "outputs": [
    {
     "name": "stdout",
     "output_type": "stream",
     "text": [
      "2\n",
      "3\n"
     ]
    }
   ],
   "source": [
    "a = 3     # Global scope\n",
    "\n",
    "\n",
    "def temp():\n",
    "    b = 2       # local scope\n",
    "    print(b)\n",
    " \n",
    "temp()\n",
    "print(a)"
   ]
  },
  {
   "cell_type": "code",
   "execution_count": 4,
   "id": "b92d1a2a",
   "metadata": {},
   "outputs": [
    {
     "name": "stdout",
     "output_type": "stream",
     "text": [
      "2\n",
      "3\n"
     ]
    }
   ],
   "source": [
    "a = 3     # Global scope\n",
    "\n",
    "\n",
    "def temp():\n",
    "    a = 2       # local scope\n",
    "    print(a)\n",
    " \n",
    "temp()\n",
    "print(a)\n",
    "\n",
    "# First print from local and then global"
   ]
  },
  {
   "cell_type": "markdown",
   "id": "2c96da9d",
   "metadata": {},
   "source": [
    "- Inshort the searching goes in this order local --> Encoding --> Global --> Builtin"
   ]
  },
  {
   "cell_type": "code",
   "execution_count": 5,
   "id": "e08afa23",
   "metadata": {},
   "outputs": [
    {
     "name": "stdout",
     "output_type": "stream",
     "text": [
      "3\n",
      "3\n"
     ]
    }
   ],
   "source": [
    "a = 3     # Global scope\n",
    "\n",
    "\n",
    "def temp():\n",
    "    # a = 2       # local scope\n",
    "    print(a)\n",
    " \n",
    "temp()\n",
    "print(a)\n",
    "\n",
    "# First the intrepretter will serch for a in local if not available search for then global and print it"
   ]
  },
  {
   "cell_type": "code",
   "execution_count": null,
   "id": "c674dc61",
   "metadata": {},
   "outputs": [
    {
     "ename": "UnboundLocalError",
     "evalue": "cannot access local variable 'a' where it is not associated with a value",
     "output_type": "error",
     "traceback": [
      "\u001b[1;31m---------------------------------------------------------------------------\u001b[0m",
      "\u001b[1;31mUnboundLocalError\u001b[0m                         Traceback (most recent call last)",
      "Cell \u001b[1;32mIn[8], line 9\u001b[0m\n\u001b[0;32m      6\u001b[0m     a \u001b[38;5;241m=\u001b[39m a\u001b[38;5;241m+\u001b[39m\u001b[38;5;241m1\u001b[39m       \u001b[38;5;66;03m# Changes \u001b[39;00m\n\u001b[0;32m      7\u001b[0m     \u001b[38;5;28mprint\u001b[39m(a)\n\u001b[1;32m----> 9\u001b[0m \u001b[43mtemp\u001b[49m\u001b[43m(\u001b[49m\u001b[43m)\u001b[49m\n\u001b[0;32m     10\u001b[0m \u001b[38;5;28mprint\u001b[39m(a)\n\u001b[0;32m     12\u001b[0m \u001b[38;5;66;03m# Changes are not allowed in this way, read the error\u001b[39;00m\n",
      "Cell \u001b[1;32mIn[8], line 6\u001b[0m, in \u001b[0;36mtemp\u001b[1;34m()\u001b[0m\n\u001b[0;32m      4\u001b[0m \u001b[38;5;28;01mdef\u001b[39;00m \u001b[38;5;21mtemp\u001b[39m():\n\u001b[0;32m      5\u001b[0m     \u001b[38;5;66;03m# a = 2       # local scope\u001b[39;00m\n\u001b[1;32m----> 6\u001b[0m     a \u001b[38;5;241m=\u001b[39m \u001b[43ma\u001b[49m\u001b[38;5;241m+\u001b[39m\u001b[38;5;241m1\u001b[39m       \u001b[38;5;66;03m# Changes \u001b[39;00m\n\u001b[0;32m      7\u001b[0m     \u001b[38;5;28mprint\u001b[39m(a)\n",
      "\u001b[1;31mUnboundLocalError\u001b[0m: cannot access local variable 'a' where it is not associated with a value"
     ]
    }
   ],
   "source": [
    "a = 3     # Global scope\n",
    "\n",
    "\n",
    "def temp():\n",
    "    # a = 2       # local scope\n",
    "    a = a+1       # Changes \n",
    "    print(a)\n",
    " \n",
    "temp()\n",
    "print(a)\n",
    "\n",
    "# Changes are not allowed in this way."
   ]
  },
  {
   "cell_type": "code",
   "execution_count": 30,
   "id": "b5c47f03",
   "metadata": {},
   "outputs": [
    {
     "name": "stdout",
     "output_type": "stream",
     "text": [
      "4\n",
      "4\n"
     ]
    }
   ],
   "source": [
    "a = 3     # Global scope\n",
    "\n",
    "\n",
    "def temp():\n",
    "    # a = 2       # local scope\n",
    "    global a\n",
    "    a = a+1       # Changes \n",
    "    print(a)\n",
    " \n",
    "temp()\n",
    "print(a)\n",
    "\n",
    "# Changes are allowed in this way, we can use global key word **Not recommended**"
   ]
  },
  {
   "cell_type": "code",
   "execution_count": 33,
   "id": "203b62d0",
   "metadata": {},
   "outputs": [
    {
     "name": "stdout",
     "output_type": "stream",
     "text": [
      "1\n",
      "1\n"
     ]
    }
   ],
   "source": [
    "def temp():\n",
    "    # a = 2       # local scope\n",
    "    global a\n",
    "    a = 1       # will be in global scope \n",
    "    print(a)\n",
    " \n",
    "temp()\n",
    "print(a)\n",
    "\n",
    "# we can add values in global scope's namespace from local scope  ** Not recomnmended**"
   ]
  },
  {
   "cell_type": "code",
   "execution_count": 36,
   "id": "8f41966b",
   "metadata": {},
   "outputs": [
    {
     "name": "stdout",
     "output_type": "stream",
     "text": [
      "5\n",
      "5\n"
     ]
    }
   ],
   "source": [
    "def temp(x):\n",
    "    print(x)       #  here \"x\" is local \n",
    "\n",
    "a = 5              # \"a\" is Global\n",
    "temp(5)\n",
    "print(a)"
   ]
  },
  {
   "cell_type": "markdown",
   "id": "70d0afde",
   "metadata": {},
   "source": [
    "- Builtin"
   ]
  },
  {
   "cell_type": "code",
   "execution_count": 38,
   "id": "499bb5a1",
   "metadata": {},
   "outputs": [
    {
     "name": "stdout",
     "output_type": "stream",
     "text": [
      "['ArithmeticError', 'AssertionError', 'AttributeError', 'BaseException', 'BaseExceptionGroup', 'BlockingIOError', 'BrokenPipeError', 'BufferError', 'BytesWarning', 'ChildProcessError', 'ConnectionAbortedError', 'ConnectionError', 'ConnectionRefusedError', 'ConnectionResetError', 'DeprecationWarning', 'EOFError', 'Ellipsis', 'EncodingWarning', 'EnvironmentError', 'Exception', 'ExceptionGroup', 'False', 'FileExistsError', 'FileNotFoundError', 'FloatingPointError', 'FutureWarning', 'GeneratorExit', 'IOError', 'ImportError', 'ImportWarning', 'IndentationError', 'IndexError', 'InterruptedError', 'IsADirectoryError', 'KeyError', 'KeyboardInterrupt', 'LookupError', 'MemoryError', 'ModuleNotFoundError', 'NameError', 'None', 'NotADirectoryError', 'NotImplemented', 'NotImplementedError', 'OSError', 'OverflowError', 'PendingDeprecationWarning', 'PermissionError', 'ProcessLookupError', 'RecursionError', 'ReferenceError', 'ResourceWarning', 'RuntimeError', 'RuntimeWarning', 'StopAsyncIteration', 'StopIteration', 'SyntaxError', 'SyntaxWarning', 'SystemError', 'SystemExit', 'TabError', 'TimeoutError', 'True', 'TypeError', 'UnboundLocalError', 'UnicodeDecodeError', 'UnicodeEncodeError', 'UnicodeError', 'UnicodeTranslateError', 'UnicodeWarning', 'UserWarning', 'ValueError', 'Warning', 'WindowsError', 'ZeroDivisionError', '__IPYTHON__', '__build_class__', '__debug__', '__doc__', '__import__', '__loader__', '__name__', '__package__', '__spec__', 'abs', 'aiter', 'all', 'anext', 'any', 'ascii', 'bin', 'bool', 'breakpoint', 'bytearray', 'bytes', 'callable', 'chr', 'classmethod', 'compile', 'complex', 'copyright', 'credits', 'delattr', 'dict', 'dir', 'display', 'divmod', 'enumerate', 'eval', 'exec', 'execfile', 'filter', 'float', 'format', 'frozenset', 'get_ipython', 'getattr', 'globals', 'hasattr', 'hash', 'help', 'hex', 'id', 'input', 'int', 'isinstance', 'issubclass', 'iter', 'len', 'license', 'list', 'locals', 'map', 'max', 'memoryview', 'min', 'next', 'object', 'oct', 'open', 'ord', 'pow', 'print', 'property', 'range', 'repr', 'reversed', 'round', 'runfile', 'set', 'setattr', 'slice', 'sorted', 'staticmethod', 'str', 'sum', 'super', 'tuple', 'type', 'vars', 'zip']\n"
     ]
    }
   ],
   "source": [
    "import builtins \n",
    "print(dir(builtins))"
   ]
  },
  {
   "cell_type": "markdown",
   "id": "c6e0252e",
   "metadata": {},
   "source": [
    "- Built-in scope is where all the default Python functions, types, and exceptions live\n",
    "- They're always available, no need to import anything."
   ]
  },
  {
   "cell_type": "markdown",
   "id": "bdb2fe53",
   "metadata": {},
   "source": [
    "- We can change the name of our builtin functions "
   ]
  },
  {
   "cell_type": "code",
   "execution_count": 40,
   "id": "87922d99",
   "metadata": {},
   "outputs": [
    {
     "data": {
      "text/plain": [
       "3"
      ]
     },
     "execution_count": 40,
     "metadata": {},
     "output_type": "execute_result"
    }
   ],
   "source": [
    "l = [1,2,3]\n",
    "len(l)          # builtin"
   ]
  },
  {
   "cell_type": "markdown",
   "id": "da3f3cbe",
   "metadata": {},
   "source": [
    "- but"
   ]
  },
  {
   "cell_type": "code",
   "execution_count": 42,
   "id": "6f97479f",
   "metadata": {},
   "outputs": [
    {
     "data": {
      "text/plain": [
       "'hello [1, 2, 3]'"
      ]
     },
     "execution_count": 42,
     "metadata": {},
     "output_type": "execute_result"
    }
   ],
   "source": [
    "l = [1,2,3]\n",
    "\n",
    "def len(a):\n",
    "    return f\"hello {a}\"\n",
    "\n",
    "len(l)"
   ]
  },
  {
   "cell_type": "markdown",
   "id": "bdfe90ee",
   "metadata": {},
   "source": [
    "- We changed the functionality of len\n",
    "- If we observe closely, our intrepretter is searching for \"len\", first in global and it was avaialable so it did not go till builtin to get the exact \"len\" function\n",
    "\n",
    "- Hence it is not recommended to make our functions with the builtin function's names"
   ]
  },
  {
   "cell_type": "markdown",
   "id": "42b8ff61",
   "metadata": {},
   "source": [
    "- Enclosing"
   ]
  },
  {
   "cell_type": "code",
   "execution_count": 44,
   "id": "a0e4964d",
   "metadata": {},
   "outputs": [
    {
     "name": "stdout",
     "output_type": "stream",
     "text": [
      "inner function\n",
      "outer function\n",
      "main\n"
     ]
    }
   ],
   "source": [
    "def outer():\n",
    "    def inner():\n",
    "        print('inner function')\n",
    "    inner()\n",
    "    print('outer function')\n",
    "\n",
    "\n",
    "outer()\n",
    "print('main')"
   ]
  },
  {
   "cell_type": "markdown",
   "id": "2ebdd6d3",
   "metadata": {},
   "source": [
    "- if we observe clearly the outer funciton is calling inner funciton because of which the \"inner function\" is printed first followed by \"outer funciton\" and then \"main\""
   ]
  },
  {
   "cell_type": "markdown",
   "id": "d2e3b0d2",
   "metadata": {},
   "source": [
    "- Here the \"main\" is globla scope \"inner\" is local scope and \"outer\" is enclosing scope"
   ]
  },
  {
   "cell_type": "code",
   "execution_count": 45,
   "id": "c16417a2",
   "metadata": {},
   "outputs": [
    {
     "name": "stdout",
     "output_type": "stream",
     "text": [
      "4\n",
      "outer function\n",
      "main\n"
     ]
    }
   ],
   "source": [
    "def outer():\n",
    "    a = 3\n",
    "    def inner():\n",
    "        a = 4\n",
    "        print(a)\n",
    "    inner()\n",
    "    print('outer function')\n",
    "\n",
    "a = 1\n",
    "outer()\n",
    "print(\"main\")"
   ]
  },
  {
   "cell_type": "markdown",
   "id": "fb75d78e",
   "metadata": {},
   "source": [
    "- Local is accessed first"
   ]
  },
  {
   "cell_type": "code",
   "execution_count": 46,
   "id": "b957843d",
   "metadata": {},
   "outputs": [
    {
     "name": "stdout",
     "output_type": "stream",
     "text": [
      "3\n",
      "outer function\n",
      "main\n"
     ]
    }
   ],
   "source": [
    "def outer():\n",
    "    a = 3\n",
    "    def inner():\n",
    "        print(a)\n",
    "    inner()\n",
    "    print('outer function')\n",
    "\n",
    "a = 1\n",
    "outer()\n",
    "print(\"main\")"
   ]
  },
  {
   "cell_type": "markdown",
   "id": "79c73c0f",
   "metadata": {},
   "source": [
    "- if not in local, it will go to Enclosing"
   ]
  },
  {
   "cell_type": "code",
   "execution_count": 47,
   "id": "c31b0b7a",
   "metadata": {},
   "outputs": [
    {
     "name": "stdout",
     "output_type": "stream",
     "text": [
      "1\n",
      "outer function\n",
      "main\n"
     ]
    }
   ],
   "source": [
    "def outer():\n",
    "    def inner():\n",
    "        print(a)\n",
    "    inner()\n",
    "    print('outer function')\n",
    "\n",
    "a = 1\n",
    "outer()\n",
    "print(\"main\")"
   ]
  },
  {
   "cell_type": "markdown",
   "id": "ffa4c4cd",
   "metadata": {},
   "source": [
    "- If not in local, if not in enclosing, then it is fetching from global"
   ]
  },
  {
   "cell_type": "markdown",
   "id": "22b6640e",
   "metadata": {},
   "source": [
    "- If it is not avaialabe in neither local,enclosing, global it will search in builtin and give the output\n",
    "- If it is not available in builtin then we will get an error"
   ]
  },
  {
   "cell_type": "markdown",
   "id": "bf96deeb",
   "metadata": {},
   "source": [
    "- If we have multiple nested functions,, the inner most function becomes local all other functions become enclosing_1, enclosing_2 and so on.."
   ]
  },
  {
   "cell_type": "code",
   "execution_count": 52,
   "id": "2581bb4c",
   "metadata": {},
   "outputs": [
    {
     "name": "stdout",
     "output_type": "stream",
     "text": [
      "inner 2\n",
      "outer 2\n",
      "main\n"
     ]
    }
   ],
   "source": [
    "def outer():\n",
    "    a = 1\n",
    "    def inner():\n",
    "        nonlocal a          # same like \"global\" keyword we can use \"nonlocal\" key word to make changes \n",
    "        a = a + 1           # changing in local \n",
    "        print(\"inner\",a)\n",
    "    inner()\n",
    "    print('outer',a)\n",
    "a =1\n",
    "outer()\n",
    "print(\"main\")\n",
    "\n",
    "# Not recommended, not a good practice"
   ]
  },
  {
   "cell_type": "markdown",
   "id": "f61d11cf",
   "metadata": {},
   "source": [
    "#### Decorator\n",
    "- Decorator is a function that takes another function as input and extends or modifies its behavior without changing its original code.\n",
    "- It’s like putting a wrapper around a function to add extra functionality — logging, timing, authentication, etc.\n",
    "- This happens becasue python functions are 1st class citizens\n",
    "\n",
    "#### Types\n",
    "- Built in ( already availabel ) *@property*, *@classmethod* and etc..\n",
    "- user defined "
   ]
  },
  {
   "cell_type": "code",
   "execution_count": 53,
   "id": "d3220bc7",
   "metadata": {},
   "outputs": [
    {
     "name": "stdout",
     "output_type": "stream",
     "text": [
      "hi\n"
     ]
    }
   ],
   "source": [
    "def func():\n",
    "    print('hi')\n",
    "\n",
    "a = func()\n",
    "a"
   ]
  },
  {
   "cell_type": "code",
   "execution_count": 55,
   "id": "fee50a52",
   "metadata": {},
   "outputs": [
    {
     "ename": "NameError",
     "evalue": "name 'func' is not defined",
     "output_type": "error",
     "traceback": [
      "\u001b[1;31m---------------------------------------------------------------------------\u001b[0m",
      "\u001b[1;31mNameError\u001b[0m                                 Traceback (most recent call last)",
      "Cell \u001b[1;32mIn[55], line 5\u001b[0m\n\u001b[0;32m      2\u001b[0m     \u001b[38;5;28mprint\u001b[39m(\u001b[38;5;124m'\u001b[39m\u001b[38;5;124mhi\u001b[39m\u001b[38;5;124m'\u001b[39m)\n\u001b[0;32m      4\u001b[0m \u001b[38;5;28;01mdel\u001b[39;00m func                \u001b[38;5;66;03m# we can even delete the functions\u001b[39;00m\n\u001b[1;32m----> 5\u001b[0m \u001b[43mfunc\u001b[49m\n",
      "\u001b[1;31mNameError\u001b[0m: name 'func' is not defined"
     ]
    }
   ],
   "source": [
    "def func():\n",
    "    print('hi')\n",
    "\n",
    "del func                # we can even delete the functions\n",
    "func"
   ]
  },
  {
   "cell_type": "code",
   "execution_count": 59,
   "id": "1df1aba3",
   "metadata": {},
   "outputs": [
    {
     "data": {
      "text/plain": [
       "4"
      ]
     },
     "execution_count": 59,
     "metadata": {},
     "output_type": "execute_result"
    }
   ],
   "source": [
    "def m1(func,num):\n",
    "    return func(num)\n",
    "\n",
    "def sqr(num):\n",
    "    return num**2\n",
    "\n",
    "m1(sqr,2)"
   ]
  },
  {
   "cell_type": "code",
   "execution_count": 70,
   "id": "0ced47a1",
   "metadata": {},
   "outputs": [
    {
     "name": "stdout",
     "output_type": "stream",
     "text": [
      "**************************************************\n",
      "yah\n",
      "**************************************************\n"
     ]
    }
   ],
   "source": [
    "# simple example of decorator\n",
    "\n",
    "def my_decorator(func):\n",
    "    def wrapper():\n",
    "        print(\"*\"*50)\n",
    "        func()\n",
    "        print(\"*\"*50)\n",
    "    return wrapper()\n",
    "\n",
    "def yah():\n",
    "    print(\"yah\")\n",
    "\n",
    "my_decorator(yah)"
   ]
  },
  {
   "cell_type": "markdown",
   "id": "668b9e64",
   "metadata": {},
   "source": [
    "- Basicall, even when the my_decorator has already returned wrapper, it is ideally gone from the memory, but wrapper function can still access the \"func\" function, which is a variable of my_decorator"
   ]
  },
  {
   "cell_type": "markdown",
   "id": "4ee97b08",
   "metadata": {},
   "source": [
    "- A  better syntax "
   ]
  },
  {
   "cell_type": "code",
   "execution_count": 76,
   "id": "768b750e",
   "metadata": {},
   "outputs": [
    {
     "name": "stdout",
     "output_type": "stream",
     "text": [
      "**************************************************\n",
      "yah\n",
      "**************************************************\n"
     ]
    }
   ],
   "source": [
    "def my_decorator(func):\n",
    "    def wrapper():\n",
    "        print(\"*\"*50)\n",
    "        func()\n",
    "        print(\"*\"*50)\n",
    "    return wrapper()\n",
    "\n",
    "@my_decorator\n",
    "def yahi():\n",
    "    print(\"yah\")"
   ]
  },
  {
   "cell_type": "markdown",
   "id": "3b1c9f67",
   "metadata": {},
   "source": [
    "- A Decorator which prints time taken for execution of a function"
   ]
  },
  {
   "cell_type": "code",
   "execution_count": 77,
   "id": "dc879980",
   "metadata": {},
   "outputs": [],
   "source": [
    "import time"
   ]
  },
  {
   "cell_type": "code",
   "execution_count": 91,
   "id": "be8c06d6",
   "metadata": {},
   "outputs": [
    {
     "name": "stdout",
     "output_type": "stream",
     "text": [
      "wokeup after 1.5 seconds\n"
     ]
    },
    {
     "data": {
      "text/plain": [
       "'Time taken for executing the function is: 1.5009961128234863 seconds'"
      ]
     },
     "execution_count": 91,
     "metadata": {},
     "output_type": "execute_result"
    }
   ],
   "source": [
    "def timer(func):\n",
    "    def wrapper():\n",
    "        start  = time.time()\n",
    "        func()\n",
    "        return f\"Time taken for executing the function is: {time.time() - start} seconds\"\n",
    "    return wrapper\n",
    "\n",
    "@timer\n",
    "def somefunc():\n",
    "    time.sleep(1.5)\n",
    "    print(\"wokeup after 1.5 seconds\")\n",
    "    \n",
    "\n",
    "somefunc()"
   ]
  },
  {
   "cell_type": "code",
   "execution_count": 108,
   "id": "b1eca887",
   "metadata": {},
   "outputs": [],
   "source": [
    "def some_decorator(func):\n",
    "    def wrapper():\n",
    "        print(f'A decorator for \"{func.__name__}\" function is applied')\n",
    "        func()\n",
    "    return wrapper\n",
    "\n",
    "@some_decorator\n",
    "def display_func():\n",
    "    print(\"display function's output\")"
   ]
  },
  {
   "cell_type": "code",
   "execution_count": 109,
   "id": "d6bb0792",
   "metadata": {},
   "outputs": [
    {
     "name": "stdout",
     "output_type": "stream",
     "text": [
      "A decorator for \"display_func\" function is applied\n",
      "display function's output\n"
     ]
    }
   ],
   "source": [
    "display_func()"
   ]
  },
  {
   "cell_type": "code",
   "execution_count": 112,
   "id": "108d5863",
   "metadata": {},
   "outputs": [
    {
     "ename": "TypeError",
     "evalue": "some_decorator.<locals>.wrapper() takes 0 positional arguments but 1 was given",
     "output_type": "error",
     "traceback": [
      "\u001b[1;31m---------------------------------------------------------------------------\u001b[0m",
      "\u001b[1;31mTypeError\u001b[0m                                 Traceback (most recent call last)",
      "Cell \u001b[1;32mIn[112], line 11\u001b[0m\n\u001b[0;32m      7\u001b[0m \u001b[38;5;129m@some_decorator\u001b[39m\n\u001b[0;32m      8\u001b[0m \u001b[38;5;28;01mdef\u001b[39;00m \u001b[38;5;21msqr\u001b[39m(x):\n\u001b[0;32m      9\u001b[0m     \u001b[38;5;28mprint\u001b[39m(x\u001b[38;5;241m*\u001b[39m\u001b[38;5;241m*\u001b[39m\u001b[38;5;241m2\u001b[39m)\n\u001b[1;32m---> 11\u001b[0m \u001b[43msqr\u001b[49m\u001b[43m(\u001b[49m\u001b[38;5;241;43m4\u001b[39;49m\u001b[43m)\u001b[49m\n",
      "\u001b[1;31mTypeError\u001b[0m: some_decorator.<locals>.wrapper() takes 0 positional arguments but 1 was given"
     ]
    }
   ],
   "source": [
    "def some_decorator(func):\n",
    "    def wrapper():\n",
    "        print(f'A decorator for \"{func.__name__}\" function is applied')\n",
    "        func()\n",
    "    return wrapper\n",
    "\n",
    "@some_decorator\n",
    "def sqr(x):\n",
    "    print(x**2)\n",
    "\n",
    "sqr(4)"
   ]
  },
  {
   "cell_type": "markdown",
   "id": "4a6b4ace",
   "metadata": {},
   "source": [
    "- See when we have called wrapper inside decorator, it is calling the func(), but wrapper doesn't have any input so code broke\n",
    "\n",
    "- basically our decorator will only work where there is no input needed"
   ]
  },
  {
   "cell_type": "markdown",
   "id": "4ff59807",
   "metadata": {},
   "source": [
    "- use *args"
   ]
  },
  {
   "cell_type": "code",
   "execution_count": 114,
   "id": "aa386f8f",
   "metadata": {},
   "outputs": [
    {
     "name": "stdout",
     "output_type": "stream",
     "text": [
      "A decorator for \"sqr\" function is applied\n",
      "the sqr of 4 is 16\n"
     ]
    }
   ],
   "source": [
    "def some_decorator(func):\n",
    "    def wrapper(*args):\n",
    "        print(f'A decorator for \"{func.__name__}\" function is applied')\n",
    "        func(*args)\n",
    "    return wrapper\n",
    "\n",
    "@some_decorator\n",
    "def sqr(x):\n",
    "    print(f\"the sqr of {x} is {x**2}\")\n",
    "\n",
    "sqr(4)"
   ]
  },
  {
   "cell_type": "code",
   "execution_count": 115,
   "id": "6607a80f",
   "metadata": {},
   "outputs": [
    {
     "name": "stdout",
     "output_type": "stream",
     "text": [
      "A decorator for \"add_\" function is applied\n",
      "the adddition of 4 and 5 is 9\n"
     ]
    }
   ],
   "source": [
    "def some_decorator(func):\n",
    "    def wrapper(*args):\n",
    "        print(f'A decorator for \"{func.__name__}\" function is applied')\n",
    "        func(*args)\n",
    "    return wrapper\n",
    "\n",
    "@some_decorator\n",
    "def add_(x,y):\n",
    "    print(f\"the adddition of {x} and {y} is {x+y}\")\n",
    "\n",
    "add_(4,5)"
   ]
  },
  {
   "cell_type": "code",
   "execution_count": 127,
   "id": "5d95e88c",
   "metadata": {},
   "outputs": [
    {
     "name": "stdout",
     "output_type": "stream",
     "text": [
      "can not work with given input\n",
      "The square of 2 is 4\n"
     ]
    }
   ],
   "source": [
    "def check_decorator(func):\n",
    "    def wrapper(*args):\n",
    "        if type(*args) != int:\n",
    "            print('can not work with given input')            \n",
    "        else:\n",
    "            func(*args)\n",
    "    return wrapper\n",
    "            \n",
    "\n",
    "\n",
    "@check_decorator\n",
    "def sqr(x):\n",
    "    print(f'The square of {x} is {x**2}')\n",
    "\n",
    "\n",
    "sqr('2')\n",
    "sqr(2)\n"
   ]
  },
  {
   "cell_type": "markdown",
   "id": "485d98ae",
   "metadata": {},
   "source": [
    "- What if I want to make a generalized decorator which takes input and can perform some checks on the given input from user"
   ]
  },
  {
   "cell_type": "code",
   "execution_count": 160,
   "id": "19ba75b2",
   "metadata": {},
   "outputs": [],
   "source": [
    "def type_decorator(data_type):\n",
    "    def outer_wrapper(func):\n",
    "        def inner_wrapper(*args):\n",
    "            if not all(isinstance(arg,data_type) for arg in args):\n",
    "                print(\"can not move ahead\")\n",
    "            else:\n",
    "                func(*args)\n",
    "        return inner_wrapper\n",
    "    return outer_wrapper\n",
    "\n",
    "@type_decorator(int)\n",
    "def sqr(x):\n",
    "    print(f'The square of {x} is {x**2}')\n",
    "\n",
    "@type_decorator(str)\n",
    "def someting(y):\n",
    "    print(f'The input string is \"{y}\"')\n",
    "\n",
    "@type_decorator(int)\n",
    "def addtn(a,b):\n",
    "    print(f'Sum of {a} and {b} is {a+b}')"
   ]
  },
  {
   "cell_type": "code",
   "execution_count": 161,
   "id": "650807db",
   "metadata": {},
   "outputs": [
    {
     "name": "stdout",
     "output_type": "stream",
     "text": [
      "The square of 3 is 9\n",
      "The input string is \"hello\"\n",
      "Sum of 2 and 3 is 5\n"
     ]
    }
   ],
   "source": [
    "sqr(3)\n",
    "someting('hello')\n",
    "addtn(2,3)"
   ]
  },
  {
   "cell_type": "code",
   "execution_count": 162,
   "id": "94d1f618",
   "metadata": {},
   "outputs": [
    {
     "name": "stdout",
     "output_type": "stream",
     "text": [
      "can not move ahead\n",
      "can not move ahead\n",
      "can not move ahead\n"
     ]
    }
   ],
   "source": [
    "sqr('hello')\n",
    "someting(3)\n",
    "addtn('1',3)"
   ]
  }
 ],
 "metadata": {
  "kernelspec": {
   "display_name": "base",
   "language": "python",
   "name": "python3"
  },
  "language_info": {
   "codemirror_mode": {
    "name": "ipython",
    "version": 3
   },
   "file_extension": ".py",
   "mimetype": "text/x-python",
   "name": "python",
   "nbconvert_exporter": "python",
   "pygments_lexer": "ipython3",
   "version": "3.12.7"
  }
 },
 "nbformat": 4,
 "nbformat_minor": 5
}
